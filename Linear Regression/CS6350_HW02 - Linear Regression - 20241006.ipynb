{
  "cells": [
    {
      "cell_type": "code",
      "execution_count": null,
      "metadata": {
        "id": "S2DIYxc8-O8s"
      },
      "outputs": [],
      "source": [
        "# Homework 2: Boosting and Bagging\n",
        "#\n",
        "# This python notebook is for Homework 2 of CS6350 at the University of Utah. It takes the Decision Trees from the previous\n",
        "# homework and builds on them to implement the Boosting and Bagging algorithms.\n",
        "#\n",
        "# @author: Scott Merkley\n",
        "# @version: October 06, 2024"
      ]
    },
    {
      "cell_type": "markdown",
      "metadata": {
        "id": "lsjurSrH-7xH"
      },
      "source": [
        "# **Import Libraries**"
      ]
    },
    {
      "cell_type": "code",
      "execution_count": 2,
      "metadata": {
        "id": "DguBYW3t-tMS"
      },
      "outputs": [],
      "source": [
        "import numpy as np\n",
        "import matplotlib.pyplot as plt\n",
        "import pandas as pd\n",
        "import math\n",
        "import os"
      ]
    },
    {
      "cell_type": "markdown",
      "metadata": {
        "id": "LkIwnbj9RfD6"
      },
      "source": [
        "# **Gain Functions, Node Class, and ID3 Algorithm**"
      ]
    },
    {
      "cell_type": "code",
      "execution_count": 3,
      "metadata": {
        "id": "qfa2PSsBRjzl"
      },
      "outputs": [],
      "source": [
        "####################################################################################################################################################################################################################################\n",
        "#                                                                                                                                                                                                                                  #\n",
        "#                                                                                                 Entropy and Gain Functions                                                                                                       #\n",
        "#                                                                                                                                                                                                                                  #\n",
        "####################################################################################################################################################################################################################################\n",
        "\n",
        "# This function takes in a positive and negative numbers for one attribute of a set, the total\n",
        "# of their entries and calculates the entropy for that single array.\n",
        "#\n",
        "def Calculate_Single_Entropy(arr):\n",
        "  tot = np.sum(arr)\n",
        "  H_entropy = 0\n",
        "  for val in arr:\n",
        "    if val == 0:\n",
        "      return 0\n",
        "    else:\n",
        "      H_entropy += -(val / tot) * math.log2(val / tot)\n",
        "  return H_entropy\n",
        "\n",
        "\n",
        "# This function takes in the positive and negative numbers of chances that the attribute has,\n",
        "# calculates, and returns the entropy.\n",
        "#\n",
        "def Entropy(entropy_arr):\n",
        "\n",
        "  if not isinstance(entropy_arr, np.ndarray):\n",
        "    entropy_arr = np.array(entropy_arr)\n",
        "\n",
        "  try:\n",
        "    if entropy_arr.shape[1] > 1:\n",
        "      H_entropy = 0\n",
        "      for arr in entropy_arr:\n",
        "            H_entropy += np.sum(arr) / np.sum(entropy_arr) * Calculate_Single_Entropy(arr)\n",
        "      return H_entropy\n",
        "  except:\n",
        "      return Calculate_Single_Entropy(entropy_arr)\n",
        "\n",
        "\n",
        "# This function calculates the gain from given positive and negative values in an array so\n",
        "# that the decision tree can decide which attribute to use next.\n",
        "#\n",
        "# Format of 'entropies':\n",
        "#\n",
        "#    [[pos, neg],     First attribute with pos, neg values\n",
        "#     [pos, neg],     Second attribute with pos, neg values\n",
        "#     [pos, neg],\n",
        "#        ...\n",
        "#     [pos, neg]]     Total pos, neg of system\n",
        "#\n",
        "def Gain(df):\n",
        "\n",
        "  # Check if df is a df, if not, make it a df\n",
        "  entropies = []\n",
        "  for col_name in df.columns:\n",
        "    col_entropy = []\n",
        "    for val in pd.crosstab(df[col_name], df[df.columns[-1]]).values:\n",
        "        col_entropy.append(val)\n",
        "\n",
        "    if col_name == df.columns[-1]:\n",
        "      # You need to collate these values so that they are in the form [9, 5] instead of [9, 0], [0, 5]\n",
        "      col_entropy = [max(elements) for elements in zip(*col_entropy)]\n",
        "\n",
        "    # I want to calculate the entropy for each column here\n",
        "    entropies.append(Entropy(col_entropy))\n",
        "\n",
        "  # Calculating the Gain\n",
        "  entropies = entropies[-1] - entropies\n",
        "  entropies = entropies[:-1]\n",
        "  return np.array(entropies)\n",
        "\n",
        "\n",
        "# This function calculates the Majority Error of a given dataframe, it assumes that the first columns are the attributes and the last column is the labels.\n",
        "# It returns an array of errors to find the majority from.\n",
        "#\n",
        "def Majority_Error(df):\n",
        "  errors = []\n",
        "  for col_name in df.columns[:-1]:\n",
        "    errors.append(1 - pd.crosstab(df[col_name], df[df.columns[-1]]).sum(axis = 1).max() / pd.crosstab(df[col_name], df[df.columns[-1]]).values.sum())\n",
        "  return np.array(errors)\n",
        "\n",
        "\n",
        "\n",
        "\n",
        "# This function calculates the Gini Index of a given dataframe, it assumes that the first columns are the attributes and the last column is the labels.\n",
        "# It returns an array of errors to find the Gini from.\n",
        "#\n",
        "def Gini_Index(df):\n",
        "  gini = []\n",
        "  for col_name in df.columns[:-1]:\n",
        "    gini_value = 0\n",
        "    for val in pd.crosstab(df[col_name], df[df.columns[-1]]).values:\n",
        "      gini_value += (np.sum(val) / pd.crosstab(df[col_name], df[df.columns[-1]]).values.sum())**2\n",
        "    gini.append(1 - gini_value)\n",
        "  return np.array(gini)\n",
        "\n",
        "\n",
        "\n",
        "\n",
        "\n",
        "####################################################################################################################################################################################################################################\n",
        "#                                                                                                                                                                                                                                  #\n",
        "#                                                                                                     Node Class                                                                                                                   #\n",
        "#                                                                                                                                                                                                                                  #\n",
        "####################################################################################################################################################################################################################################\n",
        "\n",
        "\n",
        "\n",
        "# This class represents the nodes for the decision tree. The data can be thought of as the name of the tree,\n",
        "# the children are the leaf nodes.\n",
        "#\n",
        "class Node:\n",
        "  def __init__(self, data = None):\n",
        "    self.data = data\n",
        "    self.children = {}\n",
        "    self.is_leaf = False\n",
        "\n",
        "  def add_child(self, branch_name, child_node):\n",
        "    self.children[branch_name] = child_node\n",
        "\n",
        "  def __getitem__(self, child_name):\n",
        "    return self.children[child_name]\n",
        "\n",
        "  def __str__(self):\n",
        "    return str(self.data)\n",
        "\n",
        "  def print_tree(self, level = 0):\n",
        "        # Print the current node's data with indentation\n",
        "        print(\" \" * level + str(self.data))\n",
        "        # Recursively print the children nodes\n",
        "        for child in self.children.values():\n",
        "            child.print_tree(level + 2)  # Increases indentation for children\n",
        "\n",
        "\n",
        "\n",
        "####################################################################################################################################################################################################################################\n",
        "#                                                                                                                                                                                                                                  #\n",
        "#                                                                                                     ID3 Algorithm                                                                                                                #\n",
        "#                                                                                                                                                                                                                                  #\n",
        "####################################################################################################################################################################################################################################\n",
        "\n",
        "\n",
        "\n",
        "# This function is the decision tree function. It takes in a given data set S, Attributes (ie. column names without the label column name), and\n",
        "# the Labels for the dataset. It then uses the Node class and Gain functions to create a decision tree for the data set. The user is also able to\n",
        "# specify a depth for the tree to try to maintain overfitting or underfitting.\n",
        "#\n",
        "def ID3(S, Attributes, Labels, method = 'Gain', max_depth = None, current_depth = 0):\n",
        "\n",
        "  if max_depth != None and not isinstance(max_depth, int):\n",
        "    max_depth = int(max_depth)\n",
        "\n",
        "  if not isinstance(Attributes, list):\n",
        "    attributes_list = []\n",
        "    for a in Attributes:\n",
        "      attributes_list.append(a)\n",
        "    Attributes = attributes_list\n",
        "\n",
        "  df = pd.DataFrame(S, columns = Attributes)\n",
        "  outcome_column_name = 'Outcomes'\n",
        "  df[outcome_column_name] = Labels\n",
        "\n",
        "  if len(df[outcome_column_name].unique()) == 1:\n",
        "    leaf = Node(df[outcome_column_name].unique()[0])\n",
        "    leaf.is_leaf = True\n",
        "    return leaf\n",
        "\n",
        "  elif len(Attributes) == 0:\n",
        "    leaf = Node(df[outcome_column_name].value_counts().idxmax())\n",
        "    leaf.is_leaf = True\n",
        "    return leaf # Most common label, not the highest number.\n",
        "\n",
        "  else:\n",
        "    if method == 'ME':\n",
        "      A = Attributes[np.argmax(Majority_Error(df))]\n",
        "    elif method == 'GI':\n",
        "      A = Attributes[np.argmax(Gini_Index(df))]\n",
        "    else:\n",
        "      A = Attributes[np.argmax(Gain(df))] # Will return the 'best' attribute (aka. column header) that splits S\n",
        "\n",
        "    # Add a new node until the specified depth\n",
        "    root = Node(A)\n",
        "\n",
        "    if max_depth == None or current_depth < max_depth:\n",
        "      for v in df[A].unique():\n",
        "        # root.add(Node(v)) # Adding a new tree branch corresponding to A = v\n",
        "        S_v = df[df[A] == v]\n",
        "\n",
        "        if S_v.empty:\n",
        "          leaf = Node(df[outcome_column_name].value_counts().idxmax())\n",
        "          leaf.is_leaf = True\n",
        "          root.add_child(v, leaf)\n",
        "\n",
        "        else:\n",
        "          # In order to make the tree a certain depth, you could use a count depth on the node class! Then instead of running a leaf you only add a branch (aka. .add())\n",
        "          L_v = S_v[outcome_column_name].values\n",
        "          S_v = S_v.drop([A, outcome_column_name], axis = 1)\n",
        "          A_v = Attributes.copy()\n",
        "          A_v.remove(A)\n",
        "          root.add_child(v, ID3(S_v.values, A_v, L_v, method = method, max_depth = max_depth, current_depth = current_depth + 1))\n",
        "\n",
        "    else:\n",
        "      leaf = Node(df[outcome_column_name].value_counts().idxmax())\n",
        "      leaf.is_leaf = True\n",
        "      return leaf\n",
        "\n",
        "    return root\n",
        "\n",
        "\n",
        "####################################################################################################################################################################################################################################\n",
        "#                                                                                                                                                                                                                                  #\n",
        "#                                                                                                    Testing Decision Tree Functions                                                                                               #\n",
        "#                                                                                                                                                                                                                                  #\n",
        "####################################################################################################################################################################################################################################\n",
        "\n",
        "\n",
        "# This function takes in a decision tree, the test data (as a pandas dataframe), and the row index. It returns the label value that the decision tree returns.\n",
        "# The function recursively moves down the tree until a leaf node is reached. The leaf nodes value is then returned up the tree.\n",
        "#\n",
        "def Test_Tree(tree, test, row_index):\n",
        "  if tree.is_leaf:\n",
        "    return tree.data\n",
        "  else:\n",
        "    return Test_Tree(tree[test[tree.data][row_index]], test, row_index)\n",
        "\n",
        "\n",
        "\n",
        "# This function is the driver method for testing the a decision tree. An input tree, test dataframe, outcome column name, and beginning and ending depths\n",
        "# are required to make the calculations. It then traverses the tree, tests whether the outcomes in the decision tree are the same as the test data.\n",
        "#\n",
        "def Test_Decision_Tree(tree, test_df, outcome_column_name, begin_depth, end_depth):\n",
        "  correct_dictionary = {}\n",
        "  for m in ['ME', 'GI', 'Gain']:\n",
        "    correct_list = []\n",
        "    for depth in range(begin_depth, end_depth):\n",
        "      tree = ID3(test_df.drop(outcome_column_name, axis = 1).values, list(test_df.drop(outcome_column_name, axis = 1).columns), test_df[outcome_column_name].values, method = m, max_depth = depth)\n",
        "      is_correct = 0\n",
        "      for row_index in range(0, len(test_df)):\n",
        "        try:\n",
        "          if Test_Tree(tree, test_df, row_index) == test_df[outcome_column_name][row_index]:\n",
        "            is_correct += 1\n",
        "        except:\n",
        "          is_correct += 0\n",
        "      correct_list.append(is_correct)\n",
        "    correct_dictionary[m] = correct_list\n",
        "  return correct_dictionary"
      ]
    },
    {
      "cell_type": "markdown",
      "metadata": {
        "id": "CXRm4YraDruW"
      },
      "source": [
        "# **Gradient Descent**"
      ]
    },
    {
      "cell_type": "code",
      "execution_count": 4,
      "metadata": {
        "colab": {
          "base_uri": "https://localhost:8080/",
          "height": 472
        },
        "id": "bzIuzZ1XDrGM",
        "outputId": "23e27b18-7915-45f8-f254-bd00a424936d"
      },
      "outputs": [
        {
          "data": {
            "image/png": "[encoded data removed]",
            "text/plain": [
              "<Figure size 432x288 with 1 Axes>"
            ]
          },
          "metadata": {
            "needs_background": "light"
          },
          "output_type": "display_data"
        }
      ],
      "source": [
        "import numpy as np\n",
        "import pandas as pd\n",
        "import matplotlib.pyplot as plt\n",
        "\n",
        "\n",
        "\n",
        "columns = ['Cement', 'Slag', 'Fly ash', 'Water', 'SP', 'Coarse Aggr', 'Fine Aggr', 'y']\n",
        "\n",
        "# Load the Dataset\n",
        "cement_train = pd.read_csv('concrete/train.csv', names = columns)\n",
        "cement_test = pd.read_csv('concrete/test.csv', names = columns)\n",
        "\n",
        "\n",
        "# Normalize the Data\n",
        "cement_train = (cement_train - np.mean(cement_train, axis = 0)) / np.std(cement_train, axis = 0)\n",
        "cement_test = (cement_test - np.mean(cement_test, axis = 0)) / np.std(cement_test, axis = 0)\n",
        "\n",
        "\n",
        "# Define a Cost Function\n",
        "def Cost_Function(X, y, w):\n",
        "  cost = X.dot(w) - y\n",
        "  loss = 1 / X.shape[0] * np.sum(cost**2)\n",
        "  return loss\n",
        "\n",
        "\n",
        "# Create a Batch Gradient Descent Function\n",
        "def Batch_Gradient_Descent(X, y, learning_rate = 0.01, max_iterations = 1000):\n",
        "  # Initialize Weights to Zero\n",
        "  w = np.zeros(X.shape[1])\n",
        "  cost_over_time = []\n",
        "  norm_diff = np.inf # Initialize the norm to infinity\n",
        "  iteration = 0\n",
        "\n",
        "  while norm_diff > 1e-6 and iteration < max_iterations:\n",
        "    predictions = X.dot(w)\n",
        "    errors = predictions - y\n",
        "    gradient = (1 / X.shape[0]) * (X.transpose().dot(errors)) # Actually 1/m instead of 1/2\n",
        "    w_new = w - learning_rate * gradient\n",
        "    norm_diff = np.linalg.norm(w_new - w)\n",
        "    w = w_new\n",
        "    cost = Cost_Function(X, y, w)\n",
        "    cost_over_time.append(cost)\n",
        "\n",
        "    iteration += 1\n",
        "\n",
        "  return w, cost_over_time\n",
        "\n",
        "\n",
        "for r in [2**-i for i in range(1, 6)]:\n",
        "  weights_bgd, cost_over_time = Batch_Gradient_Descent(cement_train.drop('y', axis = 1).values, cement_train['y'].values, learning_rate = r)\n",
        "  test_cost = Cost_Function(cement_test.drop('y', axis = 1).values, cement_test['y'].values, weights_bgd)\n",
        "\n",
        "  plt.plot(cost_over_time, label = f'{r:0.2}')\n",
        "  plt.title(f'Cost Function Over Iteration for Learning Rate')\n",
        "  plt.xlabel('Iteration')\n",
        "  plt.ylabel('Cost Function Value')\n",
        "  plt.grid(color = 'lightgrey')\n",
        "  plt.legend()\n",
        "  # plt.show()\n"
      ]
    },
    {
      "cell_type": "code",
      "execution_count": 5,
      "metadata": {
        "colab": {
          "base_uri": "https://localhost:8080/"
        },
        "id": "aH9KRA4OHu7R",
        "outputId": "6756bdf7-1d48-4975-b500-9fad8faa76f4"
      },
      "outputs": [
        {
          "data": {
            "text/plain": [
              "0.7976998696995595"
            ]
          },
          "execution_count": 5,
          "metadata": {},
          "output_type": "execute_result"
        }
      ],
      "source": [
        "test_cost"
      ]
    },
    {
      "cell_type": "markdown",
      "metadata": {
        "id": "KNmbu7B1pVF9"
      },
      "source": [
        "# **Stochastic Gradient Descent**"
      ]
    },
    {
      "cell_type": "code",
      "execution_count": 6,
      "metadata": {
        "colab": {
          "base_uri": "https://localhost:8080/",
          "height": 472
        },
        "id": "_FeP46w_HzGs",
        "outputId": "e98cde32-d546-4eeb-fffe-3a34518c9467"
      },
      "outputs": [
        {
          "data": {
            "image/png": "[encoded data removed]",
            "text/plain": [
              "<Figure size 432x288 with 1 Axes>"
            ]
          },
          "metadata": {
            "needs_background": "light"
          },
          "output_type": "display_data"
        }
      ],
      "source": [
        "import numpy as np\n",
        "import matplotlib.pyplot as plt\n",
        "\n",
        "\n",
        "def Stochastic_Gradient_Descent(X, y, learning_rate, iterations):\n",
        "  m, n = X.shape\n",
        "  w = np.zeros(n)\n",
        "  cost_over_time = []\n",
        "\n",
        "  for iter in range(iterations):\n",
        "    for i in range(m):\n",
        "      # Randomly Sample from X\n",
        "      random_index = np.random.randint(m)\n",
        "      x_i = X[random_index]\n",
        "      y_i = y[random_index]\n",
        "\n",
        "      # Predict based on current example\n",
        "      prediction = x_i.dot(w)\n",
        "      error = y_i - prediction\n",
        "      w += learning_rate * error * x_i # Update weights\n",
        "\n",
        "      # Calculate the Cost\n",
        "      cost = (1 / (2 * m)) * np.sum((X.dot(w) - y)**2)\n",
        "      cost_over_time.append(cost)\n",
        "\n",
        "    # Playing around with modifying the learning rate based on the sign of the cost\n",
        "    # learning_rate -= 0.0001 * np.sign(cost)\n",
        "  return w, cost_over_time\n",
        "\n",
        "def Calculate_Optimal_Weights(X, y):\n",
        "  # Using the Normal Equation, we can calculate the optimal weights\n",
        "  return np.linalg.inv(X.transpose().dot(X)).dot(X.transpose()).dot(y)\n",
        "\n",
        "\n",
        "weights_sgd, cement_cost = Stochastic_Gradient_Descent(cement_train.drop('y', axis = 1).values, cement_train['y'].values, 0.001, 100)\n",
        "plt.plot(cement_cost)\n",
        "plt.title(\"Cost Function Value vs. Number of Updates\")\n",
        "plt.xlabel(\"Number of Updates\")\n",
        "plt.ylabel(\"Cost Function Value\")\n",
        "plt.grid(color = 'lightgrey')\n",
        "plt.show()"
      ]
    },
    {
      "cell_type": "code",
      "execution_count": 7,
      "metadata": {
        "colab": {
          "base_uri": "https://localhost:8080/"
        },
        "id": "DMh1hu4urbMk",
        "outputId": "59a4f1e4-1f1f-48f8-809e-b37183fab5e0"
      },
      "outputs": [
        {
          "name": "stdout",
          "output_type": "stream",
          "text": [
            "Batch Gradient Descent:      -0.0641, -0.222, -0.243, 0.57, -0.0297, 0.305, 0.02\n",
            "Stochastic Gradient Descent: -0.113, -0.271, -0.275, 0.558, -0.0611, 0.247, 0.0203\n",
            "Optimal Weight Vector:        0.9477, 0.851, 0.9419, 1.394, 0.1259, 1.709, 1.186\n"
          ]
        }
      ],
      "source": [
        "# Comparing Descents\n",
        "\n",
        "# Batch Gradient Descent\n",
        "weights_bgd, cost_over_time = Batch_Gradient_Descent(cement_train.drop('y', axis = 1).values, cement_train['y'].values, learning_rate = 2e-2)\n",
        "print(\"Batch Gradient Descent:      \", end = '')\n",
        "print(\", \".join(f'{w:0.3}' for w in weights_bgd))\n",
        "\n",
        "# Stochastic Gradient Descent\n",
        "weights_sgd, cement_cost = Stochastic_Gradient_Descent(cement_train.drop('y', axis = 1).values, cement_train['y'].values, 0.001, 100)\n",
        "print(\"Stochastic Gradient Descent: \", end = '')\n",
        "print(\", \".join(f'{w:0.3}' for w in weights_sgd))\n",
        "\n",
        "# Optimal weight vector (Closed Form)\n",
        "optimal_weights = Calculate_Optimal_Weights(cement_train.drop('y', axis = 1).values, cement_train['y'].values)\n",
        "print(\"Optimal Weight Vector:        \", end = '')\n",
        "print(\", \".join(f'{w:0.4}' for w in optimal_weights))"
      ]
    },
    {
      "cell_type": "code",
      "execution_count": 63,
      "metadata": {
        "id": "LcFvCu3bz1ZI"
      },
      "outputs": [],
      "source": []
    },
    {
      "cell_type": "code",
      "execution_count": null,
      "metadata": {
        "id": "BddGMm3b9Efd"
      },
      "outputs": [],
      "source": []
    }
  ],
  "metadata": {
    "colab": {
      "provenance": []
    },
    "kernelspec": {
      "display_name": "base",
      "language": "python",
      "name": "python3"
    },
    "language_info": {
      "codemirror_mode": {
        "name": "ipython",
        "version": 3
      },
      "file_extension": ".py",
      "mimetype": "text/x-python",
      "name": "python",
      "nbconvert_exporter": "python",
      "pygments_lexer": "ipython3",
      "version": "3.8.8"
    }
  },
  "nbformat": 4,
  "nbformat_minor": 0
}
